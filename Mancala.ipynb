{
 "cells": [
  {
   "cell_type": "markdown",
   "id": "d368a7af-265f-4bd6-ade6-7222b9e03039",
   "metadata": {},
   "source": [
    "# Mancala Project #\n",
    "\n",
    "### Nolan Tibbles ###"
   ]
  },
  {
   "cell_type": "markdown",
   "id": "f0e23490-95f8-492b-be82-a63847155795",
   "metadata": {},
   "source": [
    "Code for mancala implementation"
   ]
  },
  {
   "cell_type": "code",
   "execution_count": 16,
   "id": "23d8c914-2d65-430e-bdba-8c30329a0385",
   "metadata": {},
   "outputs": [],
   "source": [
    "# Rules for mancala\n",
    "# Players take turns starting player chosen at random\n",
    "# Sowing, on a players turn the player picks up all the stones from one of their own pits and distributes them,\n",
    "# one by one into the neighboring pits in a counter-clockwise direction.\n",
    "# Mancala, if a player reaches their own mancala, they place a stone in it; if they reach thier opponenet's mancala they skip it.\n",
    "# Capturing, If a players last stone lands in an empty pit on thier side they capture that stone and any stones in the opposite pit on the oppnen'ts side, placing\n",
    "# them in their mancala\n",
    "# Extra turn, if a player's last stone lands in their own mancala they get an extra turn\n",
    "\n",
    "# Winning\n",
    "# Empy pits, the game ends when all the pits on one side of the board are empty\n",
    "# Counting, the player who still has stones on their side of the board when the game ends captures all of those stones and puts them into thier mancala.\n",
    "# Winner, the player with themost stones wins\n",
    "\n",
    "# Program flow,\n",
    "# Board class, \n",
    "#   List<List<int>> board\n",
    "#   Int player1Mancala\n",
    "#   Int player2Mancala\n",
    "#   \n",
    "# Player class,\n",
    "#   void moveStones(int cradel)\n",
    "#   \n",
    "# Game class, \n",
    "#   bool isGameOver\n",
    "#   int calculateScore(int player)\n",
    "#   int whoWon()\n",
    "#   \n",
    "\n",
    "class Board:\n",
    "    def __init__(self, startingStones, cradles):\n",
    "        if startingStones < 1:\n",
    "            print(\"invalid starting stones (< 1), setting default of 4\")\n",
    "            self.startingStones = 4\n",
    "            \n",
    "        else:\n",
    "            self.startingStones = startingStones\n",
    "            \n",
    "        if cradles < 3:\n",
    "            print(\"invalid starting cradles (< 3), setting default of 6\")\n",
    "            self.cradles = 6\n",
    "        \n",
    "        else:\n",
    "            self.cradles = cradles\n",
    "\n",
    "        self.board = [[self.startingStones] * 2 for _ in range(self.cradles)]\n",
    "        self.player1Mancala = 0\n",
    "        self.player2Mancala = 0\n",
    "        \n",
    "    def printBoard(self):\n",
    "        print(\"Player 2 Mancala:\", self.player2Mancala)\n",
    "        for row in self.board:\n",
    "            print(\" \".join(map(str, row)))\n",
    "            \n",
    "        print(\"Player 1 Mancala:\", self.player1Mancala)"
   ]
  },
  {
   "cell_type": "code",
   "execution_count": 17,
   "id": "026be315-e8a3-4279-a79d-f21620f4bb85",
   "metadata": {},
   "outputs": [
    {
     "name": "stdout",
     "output_type": "stream",
     "text": [
      "Player 2 Mancala: 0\n",
      "2 2\n",
      "2 2\n",
      "2 2\n",
      "2 2\n",
      "2 2\n",
      "2 2\n",
      "Player 1 Mancala: 0\n"
     ]
    }
   ],
   "source": [
    "game_board = Board(2, 6)\n",
    "game_board.printBoard()"
   ]
  },
  {
   "cell_type": "code",
   "execution_count": null,
   "id": "976bf49c-68b1-4780-bcb9-eee593e7af21",
   "metadata": {},
   "outputs": [],
   "source": []
  }
 ],
 "metadata": {
  "kernelspec": {
   "display_name": "Python 3 (ipykernel)",
   "language": "python",
   "name": "python3"
  },
  "language_info": {
   "codemirror_mode": {
    "name": "ipython",
    "version": 3
   },
   "file_extension": ".py",
   "mimetype": "text/x-python",
   "name": "python",
   "nbconvert_exporter": "python",
   "pygments_lexer": "ipython3",
   "version": "3.12.8"
  }
 },
 "nbformat": 4,
 "nbformat_minor": 5
}
